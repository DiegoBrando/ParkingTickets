{
 "cells": [
  {
   "cell_type": "code",
   "execution_count": null,
   "metadata": {},
   "outputs": [],
   "source": [
    "from BaseHTTPServer import BaseHTTPRequestHandler, HTTPServer\n",
    "import SocketServer\n",
    "import json\n",
    "import cgi\n",
    "\n",
    "class Server(BaseHTTPRequestHandler):\n",
    "    def _set_headers(self):\n",
    "        self.send_response(200)\n",
    "        self.send_header('Content-type', 'application/json')\n",
    "        self.end_headers()\n",
    "        \n",
    "    def do_HEAD(self):\n",
    "        self._set_headers()\n",
    "        \n",
    "    # GET sends back a Hello world message\n",
    "    def do_GET(self):\n",
    "        self._set_headers()\n",
    "        self.wfile.write(json.dumps({'hello': 'world', 'received': 'ok'}))\n",
    "        \n",
    "    # POST echoes the message adding a JSON field\n",
    "    def do_POST(self):\n",
    "        ctype, pdict = cgi.parse_header(self.headers.getheader('content-type'))\n",
    "        \n",
    "        # refuse to receive non-json content\n",
    "        if ctype != 'application/json':\n",
    "            self.send_response(400)\n",
    "            self.end_headers()\n",
    "            return\n",
    "            \n",
    "        # read the message and convert it into a python dictionary\n",
    "        length = int(self.headers.getheader('content-length'))\n",
    "        message = json.loads(self.rfile.read(length))\n",
    "        \n",
    "        # add a property to the object, just to mess with data\n",
    "        message['received'] = 'ok'\n",
    "        \n",
    "        # send the message back\n",
    "        self._set_headers()\n",
    "        self.wfile.write(json.dumps(message))\n",
    "        \n",
    "def run(server_class=HTTPServer, handler_class=Server, port=8008):\n",
    "    server_address = ('', port)\n",
    "    httpd = server_class(server_address, handler_class)\n",
    "    \n",
    "    print 'Starting httpd on port %d...' % port\n",
    "    httpd.serve_forever()\n",
    "    \n",
    "if __name__ == \"__main__\":\n",
    "    from sys import argv\n",
    "    \n",
    "    if len(argv) == 2:\n",
    "        run(port=int(argv[1]))\n",
    "    else:\n",
    "        run()"
   ]
  }
 ],
 "metadata": {
  "kernelspec": {
   "display_name": "Python 3",
   "language": "python",
   "name": "python3"
  },
  "language_info": {
   "codemirror_mode": {
    "name": "ipython",
    "version": 3
   },
   "file_extension": ".py",
   "mimetype": "text/x-python",
   "name": "python",
   "nbconvert_exporter": "python",
   "pygments_lexer": "ipython3",
   "version": "3.6.5"
  }
 },
 "nbformat": 4,
 "nbformat_minor": 2
}
